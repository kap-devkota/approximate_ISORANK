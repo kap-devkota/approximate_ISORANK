{
 "cells": [
  {
   "attachments": {},
   "cell_type": "markdown",
   "metadata": {},
   "source": [
    "### Import files"
   ]
  },
  {
   "cell_type": "code",
   "execution_count": 18,
   "metadata": {},
   "outputs": [],
   "source": [
    "import numpy as np\n",
    "import scipy as sp\n",
    "import pandas as pd\n",
    "import json\n",
    "\n",
    "data_loc = \"../../data/intact/\""
   ]
  },
  {
   "cell_type": "code",
   "execution_count": 31,
   "metadata": {},
   "outputs": [
    {
     "name": "stderr",
     "output_type": "stream",
     "text": [
      "/tmp/ipykernel_13274/3359673858.py:14: FutureWarning: In a future version, `df.iloc[:, i] = newvals` will attempt to set the values inplace instead of always setting a new array. To retain the old behavior, use either `df[df.columns[i]] = newvals` or, if columns are non-unique, `df.isetitem(i, newvals)`\n",
      "  udfA.loc[:, 0] = udfA.loc[:, 0].apply(lambda x : nA[x])\n",
      "/tmp/ipykernel_13274/3359673858.py:15: FutureWarning: In a future version, `df.iloc[:, i] = newvals` will attempt to set the values inplace instead of always setting a new array. To retain the old behavior, use either `df[df.columns[i]] = newvals` or, if columns are non-unique, `df.isetitem(i, newvals)`\n",
      "  udfA.loc[:, 1] = udfA.loc[:, 1].apply(lambda x : nA[x])\n"
     ]
    }
   ],
   "source": [
    "spA = \"human\"\n",
    "\n",
    "dfA = pd.read_csv(data_loc + spA + \".s.tsv\", sep = \"\\t\", header = None)\n",
    "\n",
    "nodesA = set(dfA[0]).union(dfA[1])\n",
    "\n",
    "nA = {k: i for i, k in enumerate(nodesA)}\n",
    "\n",
    "with open(f\"temp-data/{spA}.json\", \"w\") as of:\n",
    "    json.dump(nA, of)\n",
    "\n",
    "udfA = dfA.copy()\n",
    "\n",
    "udfA.loc[:, 0] = udfA.loc[:, 0].apply(lambda x : nA[x])\n",
    "udfA.loc[:, 1] = udfA.loc[:, 1].apply(lambda x : nA[x])"
   ]
  },
  {
   "cell_type": "code",
   "execution_count": 32,
   "metadata": {},
   "outputs": [],
   "source": [
    "from scipy.sparse import coo_array\n",
    "\n",
    "A_x = np.concatenate([udfA[0].values, udfA[1].values]) \n",
    "A_y = np.concatenate([udfA[1].values, udfA[0].values]) \n",
    "\n",
    "A = coo_array((np.ones(A_x.shape), (A_x, A_y)), shape = (len(nA), len(nA)))"
   ]
  },
  {
   "cell_type": "code",
   "execution_count": 33,
   "metadata": {},
   "outputs": [],
   "source": [
    "from scipy.io import savemat\n",
    "savemat(f\"temp-data/{spA}.mat\", {f\"{spA}\" : A})"
   ]
  },
  {
   "attachments": {},
   "cell_type": "markdown",
   "metadata": {},
   "source": [
    "## Save pair files"
   ]
  },
  {
   "cell_type": "code",
   "execution_count": 34,
   "metadata": {},
   "outputs": [],
   "source": [
    "import os\n",
    "\n",
    "data_loc = \"../../data/intact/\""
   ]
  },
  {
   "cell_type": "code",
   "execution_count": 36,
   "metadata": {},
   "outputs": [
    {
     "ename": "SyntaxError",
     "evalue": "invalid syntax (4158463558.py, line 26)",
     "output_type": "error",
     "traceback": [
      "\u001b[0;36m  Cell \u001b[0;32mIn [36], line 26\u001b[0;36m\u001b[0m\n\u001b[0;31m    savemat(f\"temp-data\\{spA}-{spB}.mat\", f\"{spA}-{spB}\" : E)\u001b[0m\n\u001b[0m                                                         ^\u001b[0m\n\u001b[0;31mSyntaxError\u001b[0m\u001b[0;31m:\u001b[0m invalid syntax\n"
     ]
    }
   ],
   "source": [
    "species = [\"human\", \"mouse\", \"rat\", \"fly\", \"bakers\"]\n",
    "\n",
    "\n",
    "for i in range(5):\n",
    "    for j in range(i):\n",
    "        spA = species[i]\n",
    "        spB = species[j]\n",
    "\n",
    "        with open(f\"temp-data/{spA}.json\", \"r\") as jA, open(f\"temp-data/{spB}.json\", \"r\") as jB: \n",
    "            nA = json.load(jA)\n",
    "            nB = json.load(jB)\n",
    "        efile = data_loc + f\"{spA}-{spB}.tsv\"\n",
    "        if not os.path.exists(efile):\n",
    "            efile = data_loc + f\"{spB}-{spA}.tsv\"\n",
    "        dfm = pd.read_csv(efile, sep = \"\\t\")\n",
    "        dfm = dfm.loc[:, [spA, spB, \"score\"]]\n",
    "        dfm[spA] = dfm[spA].apply(lambda x: nA[x])\n",
    "        dfm[spB] = dfm[spB].apply(lambda x: nB[x])\n",
    "\n",
    "        iloc = dfm[spA].values\n",
    "        jloc = dfm[spB].values\n",
    "\n",
    "        score = dfm[\"score\"].values\n",
    "\n",
    "        E = coo_array((score, (iloc, jloc)), size = (len(nA), len(nB)))\n",
    "        savemat(f\"temp-data/{spA}-{spB}.mat\", {f\"{spA}-{spB}\" : E})"
   ]
  },
  {
   "cell_type": "code",
   "execution_count": null,
   "metadata": {},
   "outputs": [],
   "source": []
  }
 ],
 "metadata": {
  "kernelspec": {
   "display_name": "main",
   "language": "python",
   "name": "main"
  },
  "language_info": {
   "codemirror_mode": {
    "name": "ipython",
    "version": 3
   },
   "file_extension": ".py",
   "mimetype": "text/x-python",
   "name": "python",
   "nbconvert_exporter": "python",
   "pygments_lexer": "ipython3",
   "version": "3.9.15"
  }
 },
 "nbformat": 4,
 "nbformat_minor": 2
}
