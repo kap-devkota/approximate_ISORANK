{
 "cells": [
  {
   "cell_type": "code",
   "execution_count": 4,
   "metadata": {},
   "outputs": [],
   "source": [
    "import pandas as pd\n",
    "import numpy as np\n",
    "from netalign.approx_isorank.io_utils import compute_adjacency, compute_pairs\n",
    "from netalign.approx_isorank.isorank_compute import compute_isorank, compute_greedy_assignment, pair_acc\n",
    "from netalign.approx_isorank.pair_evaluations import compute_edge_correctness, semantic_sim, symmetric_substructure, lccs\n",
    "from numpy.linalg import norm\n",
    "import json\n",
    "from scipy.io import loadmat"
   ]
  },
  {
   "cell_type": "code",
   "execution_count": 5,
   "metadata": {},
   "outputs": [],
   "source": [
    "sp1 = \"bakers\"\n",
    "sp2 = \"rat\"\n",
    "\n",
    "finalloc = f\"temp-data/{sp1}-{sp2}.mat\"\n",
    "\n",
    "MAT = loadmat(finalloc)[f\"{sp1}_{sp2}\"]"
   ]
  },
  {
   "cell_type": "code",
   "execution_count": 6,
   "metadata": {},
   "outputs": [],
   "source": [
    "pairs = compute_greedy_assignment(MAT, 100)"
   ]
  },
  {
   "cell_type": "code",
   "execution_count": 7,
   "metadata": {},
   "outputs": [
    {
     "data": {
      "text/html": [
       "<div>\n",
       "<style scoped>\n",
       "    .dataframe tbody tr th:only-of-type {\n",
       "        vertical-align: middle;\n",
       "    }\n",
       "\n",
       "    .dataframe tbody tr th {\n",
       "        vertical-align: top;\n",
       "    }\n",
       "\n",
       "    .dataframe thead th {\n",
       "        text-align: right;\n",
       "    }\n",
       "</style>\n",
       "<table border=\"1\" class=\"dataframe\">\n",
       "  <thead>\n",
       "    <tr style=\"text-align: right;\">\n",
       "      <th></th>\n",
       "      <th>0</th>\n",
       "      <th>1</th>\n",
       "    </tr>\n",
       "  </thead>\n",
       "  <tbody>\n",
       "    <tr>\n",
       "      <th>0</th>\n",
       "      <td>P08539</td>\n",
       "      <td>P18851</td>\n",
       "    </tr>\n",
       "    <tr>\n",
       "      <th>1</th>\n",
       "      <td>P11433</td>\n",
       "      <td>P18852</td>\n",
       "    </tr>\n",
       "    <tr>\n",
       "      <th>2</th>\n",
       "      <td>P11433</td>\n",
       "      <td>P21268</td>\n",
       "    </tr>\n",
       "    <tr>\n",
       "      <th>3</th>\n",
       "      <td>P11433</td>\n",
       "      <td>P18851</td>\n",
       "    </tr>\n",
       "    <tr>\n",
       "      <th>4</th>\n",
       "      <td>P18851</td>\n",
       "      <td>P18852</td>\n",
       "    </tr>\n",
       "    <tr>\n",
       "      <th>...</th>\n",
       "      <td>...</td>\n",
       "      <td>...</td>\n",
       "    </tr>\n",
       "    <tr>\n",
       "      <th>109681</th>\n",
       "      <td>Q07821</td>\n",
       "      <td>Q12425</td>\n",
       "    </tr>\n",
       "    <tr>\n",
       "      <th>109682</th>\n",
       "      <td>P47158</td>\n",
       "      <td>Q12425</td>\n",
       "    </tr>\n",
       "    <tr>\n",
       "      <th>109683</th>\n",
       "      <td>P47158</td>\n",
       "      <td>Q07821</td>\n",
       "    </tr>\n",
       "    <tr>\n",
       "      <th>109684</th>\n",
       "      <td>P47158</td>\n",
       "      <td>Q12425</td>\n",
       "    </tr>\n",
       "    <tr>\n",
       "      <th>109685</th>\n",
       "      <td>P47158</td>\n",
       "      <td>Q07821</td>\n",
       "    </tr>\n",
       "  </tbody>\n",
       "</table>\n",
       "<p>109686 rows × 2 columns</p>\n",
       "</div>"
      ],
      "text/plain": [
       "             0       1\n",
       "0       P08539  P18851\n",
       "1       P11433  P18852\n",
       "2       P11433  P21268\n",
       "3       P11433  P18851\n",
       "4       P18851  P18852\n",
       "...        ...     ...\n",
       "109681  Q07821  Q12425\n",
       "109682  P47158  Q12425\n",
       "109683  P47158  Q07821\n",
       "109684  P47158  Q12425\n",
       "109685  P47158  Q07821\n",
       "\n",
       "[109686 rows x 2 columns]"
      ]
     },
     "execution_count": 7,
     "metadata": {},
     "output_type": "execute_result"
    }
   ],
   "source": [
    "dataloc = \"../../data/intact/\"\n",
    "df1 = pd.read_csv(f\"{dataloc}/{sp1}.s.tsv\", header = None, sep = \"\\t\")\n",
    "df2 = pd.read_csv(f\"{dataloc}/{sp2}.s.tsv\", header = None, sep = \"\\t\")\n",
    "\n",
    "df1"
   ]
  },
  {
   "cell_type": "code",
   "execution_count": 8,
   "metadata": {},
   "outputs": [],
   "source": [
    "with open(f\"temp-data/{sp1}.json\") as ij1, open(f\"temp-data/{sp2}.json\") as ij2:\n",
    "    nm1 = json.load(ij1)\n",
    "    nm2 = json.load(ij2)\n",
    "\n",
    "dfa1 = df1.copy()\n",
    "dfa2 = df2.copy()\n",
    "\n",
    "dfa1[0] = dfa1[0].apply(lambda x : nm1[x])\n",
    "dfa1[1] = dfa1[1].apply(lambda x : nm1[x])\n",
    "\n",
    "\n",
    "dfa2[0] = dfa2[0].apply(lambda x : nm2[x])\n",
    "dfa2[1] = dfa2[1].apply(lambda x : nm2[x])\n",
    "\n",
    "pairs = [(i, j[0, 0]) for i, j in pairs]"
   ]
  },
  {
   "cell_type": "code",
   "execution_count": 12,
   "metadata": {},
   "outputs": [
    {
     "name": "stdout",
     "output_type": "stream",
     "text": [
      "  EXISTS: ../../data/go/go-basic.obo\n",
      "../../data/go/go-basic.obo: fmt(1.2) rel(2022-12-04) 46,763 Terms; optional_attrs(relationship)\n",
      "\t For GO=molecular_function, FC = 0.504709526965961\n",
      "  EXISTS: ../../data/go/go-basic.obo\n",
      "../../data/go/go-basic.obo: fmt(1.2) rel(2022-12-04) 46,763 Terms; optional_attrs(relationship)\n",
      "\t For GO=biological_process, FC = 0.23684912300624475\n",
      "  EXISTS: ../../data/go/go-basic.obo\n",
      "../../data/go/go-basic.obo: fmt(1.2) rel(2022-12-04) 46,763 Terms; optional_attrs(relationship)\n",
      "\t For GO=cellular_component, FC = 0.40140898061509234\n"
     ]
    }
   ],
   "source": [
    "\n",
    "rnA1 = {v: k for k, v in nm1.items()}\n",
    "rnA2 = {v: k for k, v in nm2.items()}\n",
    "\n",
    "annot1 = f\"../../data/go/{sp1}.output.mapping.gaf\"\n",
    "annot2 = f\"../../data/go/{sp2}.output.mapping.gaf\"\n",
    "FC={}\n",
    "pairs_ = [(rnA1[p], rnA2[q]) for p, q in pairs]\n",
    "\n",
    "for gotype in [\"molecular_function\", \"biological_process\", \"cellular_component\"]:\n",
    "    fc = semantic_sim(pairs_, df1, df2,\n",
    "                    obofile = \"../../data/go/go-basic.obo\",\n",
    "                    annot1file=annot1,\n",
    "                    annot2file = annot2,\n",
    "                    type = gotype)\n",
    "    print(f\"\\t For GO={gotype}, FC = {fc}\")\n",
    "    FC[f\"FC-{gotype}(FINAL)\"] = fc"
   ]
  },
  {
   "cell_type": "code",
   "execution_count": null,
   "metadata": {},
   "outputs": [],
   "source": []
  }
 ],
 "metadata": {
  "kernelspec": {
   "display_name": "netalign",
   "language": "python",
   "name": "netalign"
  },
  "language_info": {
   "codemirror_mode": {
    "name": "ipython",
    "version": 3
   },
   "file_extension": ".py",
   "mimetype": "text/x-python",
   "name": "python",
   "nbconvert_exporter": "python",
   "pygments_lexer": "ipython3",
   "version": "3.9.16"
  }
 },
 "nbformat": 4,
 "nbformat_minor": 2
}
