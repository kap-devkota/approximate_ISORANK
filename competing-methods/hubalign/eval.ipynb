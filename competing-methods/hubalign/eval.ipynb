{
 "cells": [
  {
   "cell_type": "markdown",
   "metadata": {},
   "source": [
    "## Evaluate the alignment files before generating the outputs"
   ]
  },
  {
   "cell_type": "code",
   "execution_count": 14,
   "metadata": {},
   "outputs": [],
   "source": [
    "import pandas as pd\n",
    "pairs = [\"fly-bakers\", \"fly-mouse\", \"human-bakers\", \"human-fly\", \"rat-bakers\",\n",
    "        \"fly-rat\", \"human-mouse\", \"human-rat\", \"mouse-bakers\", \"mouse-rat\"]"
   ]
  },
  {
   "cell_type": "markdown",
   "metadata": {},
   "source": [
    "## Writing the output to the new file"
   ]
  },
  {
   "cell_type": "code",
   "execution_count": 15,
   "metadata": {},
   "outputs": [],
   "source": [
    "orgpairs = [p.split(\"-\") for p in pairs]\n",
    "for p, q in orgpairs:\n",
    "    evalfile = f\"{p}.tab-{q}.tab.alignment\"\n",
    "    df = pd.read_csv(evalfile, sep = \" \")\n",
    "    df = df.dropna()\n",
    "    df.to_csv(f\"eval-files/{p}-{q}.alignment\", sep = \" \", header = False, index = False)"
   ]
  }
 ],
 "metadata": {
  "kernelspec": {
   "display_name": "netalign",
   "language": "python",
   "name": "netalign"
  },
  "language_info": {
   "codemirror_mode": {
    "name": "ipython",
    "version": 3
   },
   "file_extension": ".py",
   "mimetype": "text/x-python",
   "name": "python",
   "nbconvert_exporter": "python",
   "pygments_lexer": "ipython3",
   "version": "3.9.16"
  }
 },
 "nbformat": 4,
 "nbformat_minor": 2
}
